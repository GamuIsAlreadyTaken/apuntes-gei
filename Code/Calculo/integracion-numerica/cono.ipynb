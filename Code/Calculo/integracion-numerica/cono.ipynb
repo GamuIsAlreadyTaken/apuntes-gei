{
 "cells": [
  {
   "cell_type": "code",
   "execution_count": 11,
   "metadata": {},
   "outputs": [
    {
     "name": "stdout",
     "output_type": "stream",
     "text": [
      "Area del cono: \n"
     ]
    },
    {
     "data": {
      "text/latex": [
       "$\\displaystyle \\frac{\\pi R^{2} h}{3}$"
      ],
      "text/plain": [
       "pi*R**2*h/3"
      ]
     },
     "metadata": {},
     "output_type": "display_data"
    }
   ],
   "source": [
    "import sympy as sp\n",
    "import numpy as np\n",
    "\n",
    "h, R, x = sp.symbols('h,R,x', real=True)\n",
    "\n",
    "_l = R/h * x\n",
    "\n",
    "print(\"Area del cono: \")\n",
    "display(sp.pi * sp.integrate(_l * _l, (x, 0, h)))\n",
    "\n",
    "\n",
    "l = sp.Lambda(x, _l)\n",
    "\n",
    "# h=2, R=10\n",
    "\n",
    "h=2\n",
    "R=10\n",
    "\n",
    "\n",
    "\n",
    "\n",
    "\n"
   ]
  }
 ],
 "metadata": {
  "kernelspec": {
   "display_name": "Python 3.10.5 64-bit",
   "language": "python",
   "name": "python3"
  },
  "language_info": {
   "codemirror_mode": {
    "name": "ipython",
    "version": 3
   },
   "file_extension": ".py",
   "mimetype": "text/x-python",
   "name": "python",
   "nbconvert_exporter": "python",
   "pygments_lexer": "ipython3",
   "version": "3.10.5"
  },
  "orig_nbformat": 4,
  "vscode": {
   "interpreter": {
    "hash": "369f2c481f4da34e4445cda3fffd2e751bd1c4d706f27375911949ba6bb62e1c"
   }
  }
 },
 "nbformat": 4,
 "nbformat_minor": 2
}
