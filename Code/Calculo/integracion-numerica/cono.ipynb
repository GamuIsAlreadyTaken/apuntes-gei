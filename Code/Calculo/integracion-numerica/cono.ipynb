{
 "cells": [
  {
   "cell_type": "code",
   "execution_count": 70,
   "metadata": {},
   "outputs": [
    {
     "name": "stdout",
     "output_type": "stream",
     "text": [
      "Area del cono: \n"
     ]
    },
    {
     "data": {
      "text/latex": [
       "$\\displaystyle \\frac{\\pi R^{2} h}{3}$"
      ],
      "text/plain": [
       "pi*R**2*h/3"
      ]
     },
     "metadata": {},
     "output_type": "display_data"
    },
    {
     "data": {
      "text/latex": [
       "$\\displaystyle \\frac{\\pi x^{2}}{25}$"
      ],
      "text/plain": [
       "pi*x**2/25"
      ]
     },
     "metadata": {},
     "output_type": "display_data"
    },
    {
     "data": {
      "text/plain": [
       "'Aprox por punto medio:'"
      ]
     },
     "metadata": {},
     "output_type": "display_data"
    },
    {
     "data": {
      "text/plain": [
       "41.88786015996187"
      ]
     },
     "metadata": {},
     "output_type": "display_data"
    },
    {
     "data": {
      "text/plain": [
       "'Aprox por trapecio:'"
      ]
     },
     "metadata": {},
     "output_type": "display_data"
    },
    {
     "data": {
      "text/plain": [
       "41.88792299181493"
      ]
     },
     "metadata": {},
     "output_type": "display_data"
    },
    {
     "data": {
      "text/plain": [
       "'Aprox por simpson:'"
      ]
     },
     "metadata": {},
     "output_type": "display_data"
    },
    {
     "data": {
      "text/plain": [
       "41.88790204786392"
      ]
     },
     "metadata": {},
     "output_type": "display_data"
    },
    {
     "data": {
      "text/plain": [
       "'Exacta: '"
      ]
     },
     "metadata": {},
     "output_type": "display_data"
    },
    {
     "data": {
      "text/plain": [
       "41.88790204786391"
      ]
     },
     "metadata": {},
     "output_type": "display_data"
    }
   ],
   "source": [
    "import sympy as sp\n",
    "import numpy as np\n",
    "\n",
    "h, R, x = sp.symbols(\"h,R,x\", real=True)\n",
    "\n",
    "_l = R / h * x\n",
    "\n",
    "print(\"Area del cono: \")\n",
    "_A = sp.pi * sp.integrate(_l * _l, (x, 0, h))\n",
    "display(_A)\n",
    "\n",
    "_A = _A.subs({h:10, R:2})\n",
    "_l = _l.subs({h:10, R:2})\n",
    "_l = _l * _l * sp.pi\n",
    "\n",
    "display(_l)\n",
    "\n",
    "\n",
    "h = 10\n",
    "R = 2\n",
    "\n",
    "l = sp.lambdify(x, _l)\n",
    "\n",
    "n = 1000\n",
    "\n",
    "s = h / n\n",
    "\n",
    "x1 = np.linspace(0, h, n + 1)\n",
    "y1 = l(x1)\n",
    "\n",
    "aprox_medio = 2 * s * np.sum(y1[1:n:2])\n",
    "aprox_trap = s / 2 * (y1[0] + 2 * np.sum(y1[1:n]) + y1[n])\n",
    "aprox_simpson = (\n",
    "    2 * s / 6 * (y1[0] + 4 * np.sum(y1[1:n:2]) + 2 * np.sum(y1[2 : n - 1 : 2]) + y1[n])\n",
    ")\n",
    "\n",
    "display(\"Aprox por punto medio:\", float(aprox_medio))\n",
    "display(\"Aprox por trapecio:\", float(aprox_trap))\n",
    "display(\"Aprox por simpson:\", float(aprox_simpson))\n",
    "\n",
    "display(\"Exacta: \", float(_A))\n"
   ]
  }
 ],
 "metadata": {
  "kernelspec": {
   "display_name": "Python 3.10.5 64-bit",
   "language": "python",
   "name": "python3"
  },
  "language_info": {
   "codemirror_mode": {
    "name": "ipython",
    "version": 3
   },
   "file_extension": ".py",
   "mimetype": "text/x-python",
   "name": "python",
   "nbconvert_exporter": "python",
   "pygments_lexer": "ipython3",
   "version": "3.10.5"
  },
  "orig_nbformat": 4,
  "vscode": {
   "interpreter": {
    "hash": "369f2c481f4da34e4445cda3fffd2e751bd1c4d706f27375911949ba6bb62e1c"
   }
  }
 },
 "nbformat": 4,
 "nbformat_minor": 2
}
