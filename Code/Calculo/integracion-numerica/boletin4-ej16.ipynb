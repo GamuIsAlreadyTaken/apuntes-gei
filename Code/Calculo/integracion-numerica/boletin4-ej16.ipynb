{
 "cells": [
  {
   "cell_type": "code",
   "execution_count": null,
   "metadata": {},
   "outputs": [],
   "source": [
    "import sympy as sp\n",
    "import numpy as np\n",
    "\n",
    "\n",
    "\n",
    "a = 0; b = 3\n",
    "n = 100\n",
    "\n",
    "x1 = np.linspace(a,b,n+1) # aquí guardamos los x_{i}. \n",
    "                          # Recuerda que, en Python, se guarda x1[0], x1[1], ..., x1[(n+1)-1] = x1[n]\n",
    "y1 = f(x1)\n",
    "\n",
    "h = (b-a)/n # el tamaño de cada subintervalo\n",
    "\n",
    "aprox_trap = h/2 * (y1[0]+2*np.sum(y1[1:n])+y1[n])\n",
    "aprox_medio = 2*h * np.sum(y1[1:n:2])\n",
    "aprox_simpson = 2*h/6 * (y1[0] + 4*np.sum(y1[1:n:2])+2*np.sum(y1[2:n-1:2])+y1[n])\n",
    "\n",
    "print('aprox_trap: ',aprox_trap) \n",
    "print('aprox_medio: ',aprox_medio) \n",
    "print('aprox_simpson: ',aprox_simpson)"
   ]
  }
 ],
 "metadata": {
  "kernelspec": {
   "display_name": "Python 3.10.5 64-bit",
   "language": "python",
   "name": "python3"
  },
  "language_info": {
   "name": "python",
   "version": "3.10.5"
  },
  "orig_nbformat": 4,
  "vscode": {
   "interpreter": {
    "hash": "369f2c481f4da34e4445cda3fffd2e751bd1c4d706f27375911949ba6bb62e1c"
   }
  }
 },
 "nbformat": 4,
 "nbformat_minor": 2
}
