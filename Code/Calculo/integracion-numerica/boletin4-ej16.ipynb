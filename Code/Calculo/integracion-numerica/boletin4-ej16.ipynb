{
 "cells": [
  {
   "cell_type": "code",
   "execution_count": 1,
   "metadata": {},
   "outputs": [
    {
     "ename": "NameError",
     "evalue": "name 'f' is not defined",
     "output_type": "error",
     "traceback": [
      "\u001b[1;31m---------------------------------------------------------------------------\u001b[0m",
      "\u001b[1;31mNameError\u001b[0m                                 Traceback (most recent call last)",
      "Cell \u001b[1;32mIn [1], line 11\u001b[0m\n\u001b[0;32m      9\u001b[0m x1 \u001b[39m=\u001b[39m np\u001b[39m.\u001b[39mlinspace(a,b,n\u001b[39m+\u001b[39m\u001b[39m1\u001b[39m) \u001b[39m# aquí guardamos los x_{i}. \u001b[39;00m\n\u001b[0;32m     10\u001b[0m                           \u001b[39m# Recuerda que, en Python, se guarda x1[0], x1[1], ..., x1[(n+1)-1] = x1[n]\u001b[39;00m\n\u001b[1;32m---> 11\u001b[0m y1 \u001b[39m=\u001b[39m f(x1)\n\u001b[0;32m     13\u001b[0m h \u001b[39m=\u001b[39m (b\u001b[39m-\u001b[39ma)\u001b[39m/\u001b[39mn \u001b[39m# el tamaño de cada subintervalo\u001b[39;00m\n\u001b[0;32m     15\u001b[0m aprox_trap \u001b[39m=\u001b[39m h\u001b[39m/\u001b[39m\u001b[39m2\u001b[39m \u001b[39m*\u001b[39m (y1[\u001b[39m0\u001b[39m]\u001b[39m+\u001b[39m\u001b[39m2\u001b[39m\u001b[39m*\u001b[39mnp\u001b[39m.\u001b[39msum(y1[\u001b[39m1\u001b[39m:n])\u001b[39m+\u001b[39my1[n])\n",
      "\u001b[1;31mNameError\u001b[0m: name 'f' is not defined"
     ]
    }
   ],
   "source": [
    "import sympy as sp\n",
    "import numpy as np\n",
    "\n",
    "\n",
    "\n",
    "a = 0; b = 3\n",
    "n = 100\n",
    "\n",
    "x1 = np.linspace(a,b,n+1) # aquí guardamos los x_{i}. \n",
    "                          # Recuerda que, en Python, se guarda x1[0], x1[1], ..., x1[(n+1)-1] = x1[n]\n",
    "y1 = f(x1)\n",
    "\n",
    "h = (b-a)/n # el tamaño de cada subintervalo\n",
    "\n",
    "aprox_trap = h/2 * (y1[0]+2*np.sum(y1[1:n])+y1[n])\n",
    "aprox_medio = 2*h * np.sum(y1[1:n:2])\n",
    "aprox_simpson = 2*h/6 * (y1[0] + 4*np.sum(y1[1:n:2])+2*np.sum(y1[2:n-1:2])+y1[n])\n",
    "\n",
    "print('aprox_trap: ',aprox_trap) \n",
    "print('aprox_medio: ',aprox_medio) \n",
    "print('aprox_simpson: ',aprox_simpson)"
   ]
  }
 ],
 "metadata": {
  "kernelspec": {
   "display_name": "Python 3.10.5 64-bit",
   "language": "python",
   "name": "python3"
  },
  "language_info": {
   "codemirror_mode": {
    "name": "ipython",
    "version": 3
   },
   "file_extension": ".py",
   "mimetype": "text/x-python",
   "name": "python",
   "nbconvert_exporter": "python",
   "pygments_lexer": "ipython3",
   "version": "3.10.5"
  },
  "orig_nbformat": 4,
  "vscode": {
   "interpreter": {
    "hash": "369f2c481f4da34e4445cda3fffd2e751bd1c4d706f27375911949ba6bb62e1c"
   }
  }
 },
 "nbformat": 4,
 "nbformat_minor": 2
}
