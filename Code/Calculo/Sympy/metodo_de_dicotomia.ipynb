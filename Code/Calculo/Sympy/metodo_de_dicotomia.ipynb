{
 "cells": [
  {
   "cell_type": "markdown",
   "metadata": {},
   "source": [
    "## Metodo de Dicotomía\n",
    "nos permite aproximar las raizes de una función de una manera iterativa\n",
    "\n",
    "- Necesita trabajar con una función que contenga al menos una raiz en el intervalo que se evalue\n",
    "- Exigimos que cumpla el Teorema de Bolzano\n"
   ]
  },
  {
   "cell_type": "code",
   "execution_count": null,
   "metadata": {},
   "outputs": [],
   "source": [
    "\n",
    "# Funcion, intervalo\n",
    "# partimos en intervalo a la mitad, miramos donde se comprueba el teorema de bolzano\n",
    "\n",
    "import sympy as sp\n",
    "\n",
    "x = sp.Symbol('x', real=True)\n",
    "\n",
    "f_ = x**2\n",
    "\n",
    "f = sp.Lambda(x, f_)\n",
    "\n",
    "maxIter = 10000\n",
    "\n",
    "def bolzano(f, interval):\n",
    "  sp\n",
    "\n",
    "\n",
    "\n",
    "\n",
    "for i in range(maxIter):\n",
    "\n"
   ]
  }
 ],
 "metadata": {
  "kernelspec": {
   "display_name": "Python 3.10.5 64-bit",
   "language": "python",
   "name": "python3"
  },
  "language_info": {
   "codemirror_mode": {
    "name": "ipython",
    "version": 3
   },
   "file_extension": ".py",
   "mimetype": "text/x-python",
   "name": "python",
   "nbconvert_exporter": "python",
   "pygments_lexer": "ipython3",
   "version": "3.10.5"
  },
  "orig_nbformat": 4,
  "vscode": {
   "interpreter": {
    "hash": "369f2c481f4da34e4445cda3fffd2e751bd1c4d706f27375911949ba6bb62e1c"
   }
  }
 },
 "nbformat": 4,
 "nbformat_minor": 2
}
